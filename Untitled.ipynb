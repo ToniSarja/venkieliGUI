{
 "cells": [
  {
   "cell_type": "code",
   "execution_count": 64,
   "metadata": {},
   "outputs": [],
   "source": [
    "import pandas as pd\n",
    "import csv\n",
    "import numpy as np\n",
    "import matplotlib.pyplot as plt\n",
    "pd.set_option('precision', 0)"
   ]
  },
  {
   "cell_type": "code",
   "execution_count": 65,
   "metadata": {},
   "outputs": [],
   "source": [
    "adj_akk = pd.read_csv('oikein_adjakk.csv')\n",
    "adj_dat = pd.read_csv('oikein_adjdat.csv')\n",
    "adj_gen = pd.read_csv('oikein_adjgen.csv')\n",
    "adj_ins = pd.read_csv('oikein_adjins.csv')\n",
    "adj_pre = pd.read_csv('oikein_adjpre.csv')\n",
    "akk = pd.read_csv('oikein_akk.csv')\n",
    "dat = pd.read_csv('oikein_dat.csv')\n",
    "gen = pd.read_csv('oikein_gen.csv')\n",
    "pre = pd.read_csv('oikein_pre.csv')\n",
    "nom = pd.read_csv('oikein_nom.csv')\n",
    "ins = pd.read_csv('oikein_ins.csv')\n",
    "nommonikko = pd.read_csv('oikein_nomnom.csv')\n"
   ]
  },
  {
   "cell_type": "code",
   "execution_count": 66,
   "metadata": {},
   "outputs": [],
   "source": [
    "df1 = pd.DataFrame(nom)\n",
    "df2 = pd.DataFrame(nommonikko)\n",
    "df3 = pd.DataFrame(gen)\n",
    "df4 = pd.DataFrame(dat)\n",
    "df5 = pd.DataFrame(akk)\n",
    "df6 = pd.DataFrame(ins)\n",
    "df7 = pd.DataFrame(pre)\n",
    "df8 = pd.DataFrame(adj_akk)\n",
    "df10 = pd.DataFrame(adj_gen)\n",
    "df9 = pd.DataFrame(adj_dat)\n",
    "df11 = pd.DataFrame(adj_ins)\n",
    "df12 = pd.DataFrame(adj_pre)\n",
    "\n"
   ]
  },
  {
   "cell_type": "code",
   "execution_count": 67,
   "metadata": {},
   "outputs": [],
   "source": [
    "pointsit = [df1,df2,df3,df4,df5,df6,df7,df8,df9,df10,df11,df12]"
   ]
  },
  {
   "cell_type": "code",
   "execution_count": 72,
   "metadata": {},
   "outputs": [],
   "source": [
    "kaikkipointsit = pd.concat(pointsit, axis=1)\n",
    "taulukko = kaikkipointsit.dropna()"
   ]
  },
  {
   "cell_type": "code",
   "execution_count": 73,
   "metadata": {},
   "outputs": [],
   "source": [
    "taulukko.columns = ['Nom','Nom mon','Gen','Dat','Akk','Ins','Pre','Adj Akk','Adj gen','Adj dat','Adj ins','Adj pre']"
   ]
  },
  {
   "cell_type": "code",
   "execution_count": 74,
   "metadata": {},
   "outputs": [
    {
     "data": {
      "text/html": [
       "<div>\n",
       "<style scoped>\n",
       "    .dataframe tbody tr th:only-of-type {\n",
       "        vertical-align: middle;\n",
       "    }\n",
       "\n",
       "    .dataframe tbody tr th {\n",
       "        vertical-align: top;\n",
       "    }\n",
       "\n",
       "    .dataframe thead th {\n",
       "        text-align: right;\n",
       "    }\n",
       "</style>\n",
       "<table border=\"1\" class=\"dataframe\">\n",
       "  <thead>\n",
       "    <tr style=\"text-align: right;\">\n",
       "      <th></th>\n",
       "      <th>Nom</th>\n",
       "      <th>Nom mon</th>\n",
       "      <th>Gen</th>\n",
       "      <th>Dat</th>\n",
       "      <th>Akk</th>\n",
       "      <th>Ins</th>\n",
       "      <th>Pre</th>\n",
       "      <th>Adj Akk</th>\n",
       "      <th>Adj gen</th>\n",
       "      <th>Adj dat</th>\n",
       "      <th>Adj ins</th>\n",
       "      <th>Adj pre</th>\n",
       "    </tr>\n",
       "  </thead>\n",
       "  <tbody>\n",
       "    <tr>\n",
       "      <th>0</th>\n",
       "      <td>1</td>\n",
       "      <td>1</td>\n",
       "      <td>0</td>\n",
       "      <td>1</td>\n",
       "      <td>1</td>\n",
       "      <td>1</td>\n",
       "      <td>1</td>\n",
       "      <td>1</td>\n",
       "      <td>1</td>\n",
       "      <td>1</td>\n",
       "      <td>1</td>\n",
       "      <td>0</td>\n",
       "    </tr>\n",
       "    <tr>\n",
       "      <th>1</th>\n",
       "      <td>1</td>\n",
       "      <td>1</td>\n",
       "      <td>1</td>\n",
       "      <td>1</td>\n",
       "      <td>1</td>\n",
       "      <td>1</td>\n",
       "      <td>1</td>\n",
       "      <td>1</td>\n",
       "      <td>1</td>\n",
       "      <td>1</td>\n",
       "      <td>1</td>\n",
       "      <td>0</td>\n",
       "    </tr>\n",
       "    <tr>\n",
       "      <th>2</th>\n",
       "      <td>1</td>\n",
       "      <td>1</td>\n",
       "      <td>1</td>\n",
       "      <td>1</td>\n",
       "      <td>1</td>\n",
       "      <td>1</td>\n",
       "      <td>1</td>\n",
       "      <td>1</td>\n",
       "      <td>1</td>\n",
       "      <td>1</td>\n",
       "      <td>1</td>\n",
       "      <td>0</td>\n",
       "    </tr>\n",
       "    <tr>\n",
       "      <th>3</th>\n",
       "      <td>1</td>\n",
       "      <td>1</td>\n",
       "      <td>0</td>\n",
       "      <td>1</td>\n",
       "      <td>1</td>\n",
       "      <td>1</td>\n",
       "      <td>1</td>\n",
       "      <td>1</td>\n",
       "      <td>1</td>\n",
       "      <td>1</td>\n",
       "      <td>1</td>\n",
       "      <td>0</td>\n",
       "    </tr>\n",
       "    <tr>\n",
       "      <th>4</th>\n",
       "      <td>1</td>\n",
       "      <td>1</td>\n",
       "      <td>0</td>\n",
       "      <td>1</td>\n",
       "      <td>1</td>\n",
       "      <td>1</td>\n",
       "      <td>1</td>\n",
       "      <td>1</td>\n",
       "      <td>1</td>\n",
       "      <td>1</td>\n",
       "      <td>1</td>\n",
       "      <td>0</td>\n",
       "    </tr>\n",
       "    <tr>\n",
       "      <th>5</th>\n",
       "      <td>1</td>\n",
       "      <td>1</td>\n",
       "      <td>1</td>\n",
       "      <td>1</td>\n",
       "      <td>0</td>\n",
       "      <td>1</td>\n",
       "      <td>1</td>\n",
       "      <td>1</td>\n",
       "      <td>1</td>\n",
       "      <td>1</td>\n",
       "      <td>1</td>\n",
       "      <td>0</td>\n",
       "    </tr>\n",
       "  </tbody>\n",
       "</table>\n",
       "</div>"
      ],
      "text/plain": [
       "   Nom  Nom mon  Gen  Dat  Akk  Ins  Pre  Adj Akk  Adj gen  Adj dat  Adj ins  \\\n",
       "0    1        1    0    1    1    1    1        1        1        1        1   \n",
       "1    1        1    1    1    1    1    1        1        1        1        1   \n",
       "2    1        1    1    1    1    1    1        1        1        1        1   \n",
       "3    1        1    0    1    1    1    1        1        1        1        1   \n",
       "4    1        1    0    1    1    1    1        1        1        1        1   \n",
       "5    1        1    1    1    0    1    1        1        1        1        1   \n",
       "\n",
       "   Adj pre  \n",
       "0        0  \n",
       "1        0  \n",
       "2        0  \n",
       "3        0  \n",
       "4        0  \n",
       "5        0  "
      ]
     },
     "execution_count": 74,
     "metadata": {},
     "output_type": "execute_result"
    }
   ],
   "source": [
    "taulukko"
   ]
  },
  {
   "cell_type": "code",
   "execution_count": null,
   "metadata": {},
   "outputs": [],
   "source": []
  },
  {
   "cell_type": "code",
   "execution_count": 75,
   "metadata": {},
   "outputs": [],
   "source": [
    "taulukko.to_csv('taulukko.csv')"
   ]
  },
  {
   "cell_type": "code",
   "execution_count": null,
   "metadata": {},
   "outputs": [],
   "source": []
  }
 ],
 "metadata": {
  "kernelspec": {
   "display_name": "Python 3",
   "language": "python",
   "name": "python3"
  },
  "language_info": {
   "codemirror_mode": {
    "name": "ipython",
    "version": 3
   },
   "file_extension": ".py",
   "mimetype": "text/x-python",
   "name": "python",
   "nbconvert_exporter": "python",
   "pygments_lexer": "ipython3",
   "version": "3.8.5"
  }
 },
 "nbformat": 4,
 "nbformat_minor": 4
}
