{
 "cells": [
  {
   "cell_type": "code",
   "execution_count": 146,
   "metadata": {},
   "outputs": [],
   "source": [
    "import pandas as pd\n",
    "import csv\n",
    "import numpy as np\n",
    "import matplotlib.pyplot as plt\n",
    "pd.set_option('precision', 0)\n",
    "import seaborn as sns"
   ]
  },
  {
   "cell_type": "code",
   "execution_count": 147,
   "metadata": {},
   "outputs": [],
   "source": [
    "adj_akk = pd.read_csv('oikein_adjakk.csv')\n",
    "adj_dat = pd.read_csv('oikein_adjdat.csv')\n",
    "adj_gen = pd.read_csv('oikein_adjgen.csv')\n",
    "adj_ins = pd.read_csv('oikein_adjins.csv')\n",
    "adj_pre = pd.read_csv('oikein_adjpre.csv')\n",
    "akk = pd.read_csv('oikein_akk.csv')\n",
    "dat = pd.read_csv('oikein_dat.csv')\n",
    "gen = pd.read_csv('oikein_gen.csv')\n",
    "pre = pd.read_csv('oikein_pre.csv')\n",
    "nom = pd.read_csv('oikein_nom.csv')\n",
    "ins = pd.read_csv('oikein_ins.csv')\n",
    "nommonikko = pd.read_csv('oikein_nomnom.csv')\n"
   ]
  },
  {
   "cell_type": "code",
   "execution_count": 148,
   "metadata": {},
   "outputs": [],
   "source": [
    "df1 = pd.DataFrame(nom)\n",
    "df2 = pd.DataFrame(nommonikko)\n",
    "df3 = pd.DataFrame(gen)\n",
    "df4 = pd.DataFrame(dat)\n",
    "df5 = pd.DataFrame(akk)\n",
    "df6 = pd.DataFrame(ins)\n",
    "df7 = pd.DataFrame(pre)\n",
    "df8 = pd.DataFrame(adj_akk)\n",
    "df10 = pd.DataFrame(adj_gen)\n",
    "df9 = pd.DataFrame(adj_dat)\n",
    "df11 = pd.DataFrame(adj_ins)\n",
    "df12 = pd.DataFrame(adj_pre)\n",
    "\n"
   ]
  },
  {
   "cell_type": "code",
   "execution_count": 119,
   "metadata": {},
   "outputs": [],
   "source": [
    "pointsit = [df1,df2,df3,df4,df5,df6,df7]"
   ]
  },
  {
   "cell_type": "code",
   "execution_count": 120,
   "metadata": {},
   "outputs": [],
   "source": [
    "kaikkipointsit = pd.concat(pointsit, axis=1)\n",
    "taulukko = kaikkipointsit.dropna()"
   ]
  },
  {
   "cell_type": "code",
   "execution_count": 121,
   "metadata": {},
   "outputs": [],
   "source": [
    "taulukko.columns = ['Nom','Nom mon','Gen','Dat','Akk','Ins','Pre']"
   ]
  },
  {
   "cell_type": "code",
   "execution_count": 124,
   "metadata": {
    "scrolled": true
   },
   "outputs": [
    {
     "data": {
      "text/html": [
       "<div>\n",
       "<style scoped>\n",
       "    .dataframe tbody tr th:only-of-type {\n",
       "        vertical-align: middle;\n",
       "    }\n",
       "\n",
       "    .dataframe tbody tr th {\n",
       "        vertical-align: top;\n",
       "    }\n",
       "\n",
       "    .dataframe thead th {\n",
       "        text-align: right;\n",
       "    }\n",
       "</style>\n",
       "<table border=\"1\" class=\"dataframe\">\n",
       "  <thead>\n",
       "    <tr style=\"text-align: right;\">\n",
       "      <th></th>\n",
       "      <th>Nom</th>\n",
       "      <th>Nom mon</th>\n",
       "      <th>Gen</th>\n",
       "      <th>Dat</th>\n",
       "      <th>Akk</th>\n",
       "      <th>Ins</th>\n",
       "      <th>Pre</th>\n",
       "    </tr>\n",
       "  </thead>\n",
       "  <tbody>\n",
       "    <tr>\n",
       "      <th>0</th>\n",
       "      <td>1</td>\n",
       "      <td>1</td>\n",
       "      <td>0</td>\n",
       "      <td>1</td>\n",
       "      <td>1</td>\n",
       "      <td>1</td>\n",
       "      <td>1</td>\n",
       "    </tr>\n",
       "    <tr>\n",
       "      <th>1</th>\n",
       "      <td>1</td>\n",
       "      <td>1</td>\n",
       "      <td>1</td>\n",
       "      <td>1</td>\n",
       "      <td>1</td>\n",
       "      <td>1</td>\n",
       "      <td>1</td>\n",
       "    </tr>\n",
       "    <tr>\n",
       "      <th>2</th>\n",
       "      <td>1</td>\n",
       "      <td>1</td>\n",
       "      <td>1</td>\n",
       "      <td>1</td>\n",
       "      <td>1</td>\n",
       "      <td>1</td>\n",
       "      <td>1</td>\n",
       "    </tr>\n",
       "    <tr>\n",
       "      <th>3</th>\n",
       "      <td>1</td>\n",
       "      <td>1</td>\n",
       "      <td>0</td>\n",
       "      <td>1</td>\n",
       "      <td>1</td>\n",
       "      <td>1</td>\n",
       "      <td>1</td>\n",
       "    </tr>\n",
       "    <tr>\n",
       "      <th>4</th>\n",
       "      <td>1</td>\n",
       "      <td>1</td>\n",
       "      <td>0</td>\n",
       "      <td>1</td>\n",
       "      <td>1</td>\n",
       "      <td>1</td>\n",
       "      <td>1</td>\n",
       "    </tr>\n",
       "    <tr>\n",
       "      <th>5</th>\n",
       "      <td>1</td>\n",
       "      <td>1</td>\n",
       "      <td>1</td>\n",
       "      <td>1</td>\n",
       "      <td>0</td>\n",
       "      <td>1</td>\n",
       "      <td>1</td>\n",
       "    </tr>\n",
       "    <tr>\n",
       "      <th>6</th>\n",
       "      <td>0</td>\n",
       "      <td>1</td>\n",
       "      <td>1</td>\n",
       "      <td>1</td>\n",
       "      <td>1</td>\n",
       "      <td>1</td>\n",
       "      <td>1</td>\n",
       "    </tr>\n",
       "  </tbody>\n",
       "</table>\n",
       "</div>"
      ],
      "text/plain": [
       "   Nom  Nom mon  Gen  Dat  Akk  Ins  Pre\n",
       "0    1        1    0    1    1    1    1\n",
       "1    1        1    1    1    1    1    1\n",
       "2    1        1    1    1    1    1    1\n",
       "3    1        1    0    1    1    1    1\n",
       "4    1        1    0    1    1    1    1\n",
       "5    1        1    1    1    0    1    1\n",
       "6    0        1    1    1    1    1    1"
      ]
     },
     "execution_count": 124,
     "metadata": {},
     "output_type": "execute_result"
    }
   ],
   "source": [
    "taulukko"
   ]
  },
  {
   "cell_type": "code",
   "execution_count": 152,
   "metadata": {},
   "outputs": [
    {
     "data": {
      "text/plain": [
       "<seaborn.axisgrid.FacetGrid at 0x1608eb82220>"
      ]
     },
     "execution_count": 152,
     "metadata": {},
     "output_type": "execute_result"
    },
    {
     "data": {
      "image/png": "[encoded data removed]",
      "text/plain": [
       "<Figure size 360x360 with 1 Axes>"
      ]
     },
     "metadata": {
      "needs_background": "light"
     },
     "output_type": "display_data"
    },
    {
     "data": {
      "image/png": "[encoded data removed]",
      "text/plain": [
       "<Figure size 360x360 with 1 Axes>"
      ]
     },
     "metadata": {
      "needs_background": "light"
     },
     "output_type": "display_data"
    },
    {
     "data": {
      "image/png": "[encoded data removed]",
      "text/plain": [
       "<Figure size 360x360 with 1 Axes>"
      ]
     },
     "metadata": {
      "needs_background": "light"
     },
     "output_type": "display_data"
    },
    {
     "data": {
      "image/png": "[encoded data removed]",
      "text/plain": [
       "<Figure size 360x360 with 1 Axes>"
      ]
     },
     "metadata": {
      "needs_background": "light"
     },
     "output_type": "display_data"
    },
    {
     "data": {
      "image/png": "[encoded data removed]",
      "text/plain": [
       "<Figure size 360x360 with 1 Axes>"
      ]
     },
     "metadata": {
      "needs_background": "light"
     },
     "output_type": "display_data"
    },
    {
     "data": {
      "image/png": "[encoded data removed]",
      "text/plain": [
       "<Figure size 360x360 with 1 Axes>"
      ]
     },
     "metadata": {
      "needs_background": "light"
     },
     "output_type": "display_data"
    }
   ],
   "source": [
    "Nomi = sns.catplot(x='Nom',kind=\"count\", data=taulukko)\n",
    "Nomi.set(xticklabels=['Väärin','Oikein'])\n",
    "sns.catplot(x='Gen',kind=\"count\", data=taulukko)\n",
    "sns.catplot(x='Dat',kind=\"count\", data=taulukko)\n",
    "sns.catplot(x='Akk',kind=\"count\", data=taulukko)\n",
    "sns.catplot(x='Ins',kind=\"count\", data=taulukko)\n",
    "sns.catplot(x='Pre',kind=\"count\", data=taulukko)\n"
   ]
  },
  {
   "cell_type": "code",
   "execution_count": 87,
   "metadata": {},
   "outputs": [],
   "source": [
    "virheet = taulukko.loc[0]"
   ]
  },
  {
   "cell_type": "code",
   "execution_count": 88,
   "metadata": {},
   "outputs": [
    {
     "data": {
      "text/plain": [
       "Nom        1\n",
       "Nom mon    1\n",
       "Gen        0\n",
       "Dat        1\n",
       "Akk        1\n",
       "Ins        1\n",
       "Pre        1\n",
       "Adj Akk    1\n",
       "Adj gen    1\n",
       "Adj dat    1\n",
       "Adj ins    1\n",
       "Adj pre    0\n",
       "Name: 0, dtype: float64"
      ]
     },
     "execution_count": 88,
     "metadata": {},
     "output_type": "execute_result"
    }
   ],
   "source": [
    "virheet"
   ]
  },
  {
   "cell_type": "code",
   "execution_count": null,
   "metadata": {},
   "outputs": [],
   "source": []
  }
 ],
 "metadata": {
  "kernelspec": {
   "display_name": "Python 3",
   "language": "python",
   "name": "python3"
  },
  "language_info": {
   "codemirror_mode": {
    "name": "ipython",
    "version": 3
   },
   "file_extension": ".py",
   "mimetype": "text/x-python",
   "name": "python",
   "nbconvert_exporter": "python",
   "pygments_lexer": "ipython3",
   "version": "3.8.5"
  }
 },
 "nbformat": 4,
 "nbformat_minor": 4
}
