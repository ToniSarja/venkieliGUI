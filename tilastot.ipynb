{
 "cells": [
  {
   "cell_type": "code",
   "execution_count": 9,
   "metadata": {},
   "outputs": [],
   "source": [
    "import pandas as pd\n",
    "import csv\n",
    "import numpy as np\n",
    "import matplotlib.pyplot as plt\n",
    "pd.set_option('precision', 0)\n",
    "import seaborn as sns"
   ]
  },
  {
   "cell_type": "code",
   "execution_count": 10,
   "metadata": {},
   "outputs": [],
   "source": [
    "akk = pd.read_csv('oikein_akk.csv')\n",
    "dat = pd.read_csv('oikein_dat.csv')\n",
    "gen = pd.read_csv('oikein_gen.csv')\n",
    "pre = pd.read_csv('oikein_pre.csv')\n",
    "nom = pd.read_csv('oikein_nom.csv')\n",
    "ins = pd.read_csv('oikein_ins.csv')\n",
    "nommonikko = pd.read_csv('oikein_nomnom.csv')\n"
   ]
  },
  {
   "cell_type": "code",
   "execution_count": 34,
   "metadata": {},
   "outputs": [],
   "source": [
    "df1 = pd.DataFrame(nom)\n",
    "df2 = pd.DataFrame(nommonikko)\n",
    "df3 = pd.DataFrame(gen)\n",
    "df4 = pd.DataFrame(dat)\n",
    "df5 = pd.DataFrame(akk)\n",
    "df6 = pd.DataFrame(ins)\n",
    "df7 = pd.DataFrame(pre)\n",
    "df1 = df1.replace(['N'],'Nominatiivi')\n",
    "df2 = df2.replace(['M'],'Monikko')\n",
    "df3 = df3.replace(['G'],'Genetiivi')\n",
    "df4 = df4.replace(['D'],'Datiivi')\n",
    "df5 = df5.replace(['A'],'Akkusatiivi')\n",
    "df6 = df6.replace(['I'],'Instrumentaali')\n",
    "df7 = df7.replace(['P'],'Prepositionaali')\n",
    "df1 = df1.replace([1],'Oikein')\n",
    "df2 = df2.replace([1],'Oikein')\n",
    "df3 = df3.replace([1],'Oikein')\n",
    "df4 = df4.replace([1],'Oikein')\n",
    "df5 = df5.replace([1],'Oikein')\n",
    "df6 = df6.replace([1],'Oikein')\n",
    "df7 = df7.replace([1],'Oikein')\n",
    "df1 = df1.replace([0],'Väärin')\n",
    "df2 = df2.replace([0],'Väärin')\n",
    "df3 = df3.replace([0],'Väärin')\n",
    "df4 = df4.replace([0],'Väärin')\n",
    "df5 = df5.replace([0],'Väärin')\n",
    "df6 = df6.replace([0],'Väärin')\n",
    "df7 = df7.replace([0],'Väärin')"
   ]
  },
  {
   "cell_type": "code",
   "execution_count": 35,
   "metadata": {},
   "outputs": [],
   "source": [
    "pointsit = df1.append([df2,df3,df4,df5,df6,df7])"
   ]
  },
  {
   "cell_type": "code",
   "execution_count": 36,
   "metadata": {},
   "outputs": [
    {
     "data": {
      "text/html": [
       "<div>\n",
       "<style scoped>\n",
       "    .dataframe tbody tr th:only-of-type {\n",
       "        vertical-align: middle;\n",
       "    }\n",
       "\n",
       "    .dataframe tbody tr th {\n",
       "        vertical-align: top;\n",
       "    }\n",
       "\n",
       "    .dataframe thead th {\n",
       "        text-align: right;\n",
       "    }\n",
       "</style>\n",
       "<table border=\"1\" class=\"dataframe\">\n",
       "  <thead>\n",
       "    <tr style=\"text-align: right;\">\n",
       "      <th></th>\n",
       "      <th>pisteet</th>\n",
       "      <th>sija</th>\n",
       "    </tr>\n",
       "  </thead>\n",
       "  <tbody>\n",
       "    <tr>\n",
       "      <th>0</th>\n",
       "      <td>Väärin</td>\n",
       "      <td>Nominatiivi</td>\n",
       "    </tr>\n",
       "    <tr>\n",
       "      <th>1</th>\n",
       "      <td>Oikein</td>\n",
       "      <td>Nominatiivi</td>\n",
       "    </tr>\n",
       "    <tr>\n",
       "      <th>2</th>\n",
       "      <td>Oikein</td>\n",
       "      <td>Nominatiivi</td>\n",
       "    </tr>\n",
       "    <tr>\n",
       "      <th>3</th>\n",
       "      <td>Oikein</td>\n",
       "      <td>Nominatiivi</td>\n",
       "    </tr>\n",
       "    <tr>\n",
       "      <th>4</th>\n",
       "      <td>Oikein</td>\n",
       "      <td>Nominatiivi</td>\n",
       "    </tr>\n",
       "    <tr>\n",
       "      <th>...</th>\n",
       "      <td>...</td>\n",
       "      <td>...</td>\n",
       "    </tr>\n",
       "    <tr>\n",
       "      <th>27</th>\n",
       "      <td>Oikein</td>\n",
       "      <td>Prepositionaali</td>\n",
       "    </tr>\n",
       "    <tr>\n",
       "      <th>28</th>\n",
       "      <td>Oikein</td>\n",
       "      <td>Prepositionaali</td>\n",
       "    </tr>\n",
       "    <tr>\n",
       "      <th>29</th>\n",
       "      <td>Oikein</td>\n",
       "      <td>Prepositionaali</td>\n",
       "    </tr>\n",
       "    <tr>\n",
       "      <th>30</th>\n",
       "      <td>Oikein</td>\n",
       "      <td>Prepositionaali</td>\n",
       "    </tr>\n",
       "    <tr>\n",
       "      <th>31</th>\n",
       "      <td>Oikein</td>\n",
       "      <td>Prepositionaali</td>\n",
       "    </tr>\n",
       "  </tbody>\n",
       "</table>\n",
       "<p>230 rows × 2 columns</p>\n",
       "</div>"
      ],
      "text/plain": [
       "   pisteet             sija\n",
       "0   Väärin      Nominatiivi\n",
       "1   Oikein      Nominatiivi\n",
       "2   Oikein      Nominatiivi\n",
       "3   Oikein      Nominatiivi\n",
       "4   Oikein      Nominatiivi\n",
       "..     ...              ...\n",
       "27  Oikein  Prepositionaali\n",
       "28  Oikein  Prepositionaali\n",
       "29  Oikein  Prepositionaali\n",
       "30  Oikein  Prepositionaali\n",
       "31  Oikein  Prepositionaali\n",
       "\n",
       "[230 rows x 2 columns]"
      ]
     },
     "execution_count": 36,
     "metadata": {},
     "output_type": "execute_result"
    }
   ],
   "source": [
    "pointsit"
   ]
  },
  {
   "cell_type": "code",
   "execution_count": 38,
   "metadata": {},
   "outputs": [],
   "source": [
    "pointsit.to_csv('pointsit.csv')"
   ]
  },
  {
   "cell_type": "code",
   "execution_count": 45,
   "metadata": {},
   "outputs": [
    {
     "data": {
      "text/plain": [
       "<seaborn.axisgrid.FacetGrid at 0x1a96c2181c0>"
      ]
     },
     "execution_count": 45,
     "metadata": {},
     "output_type": "execute_result"
    },
    {
     "data": {
      "image/png": "[encoded data removed]",
      "text/plain": [
       "<Figure size 427.75x360 with 1 Axes>"
      ]
     },
     "metadata": {
      "needs_background": "light"
     },
     "output_type": "display_data"
    }
   ],
   "source": [
    "sns.catplot(y='sija', hue='pisteet',kind=\"count\", data=pointsit)\n",
    "\n"
   ]
  },
  {
   "cell_type": "code",
   "execution_count": null,
   "metadata": {},
   "outputs": [],
   "source": []
  },
  {
   "cell_type": "code",
   "execution_count": null,
   "metadata": {},
   "outputs": [],
   "source": []
  }
 ],
 "metadata": {
  "kernelspec": {
   "display_name": "Python 3",
   "language": "python",
   "name": "python3"
  },
  "language_info": {
   "codemirror_mode": {
    "name": "ipython",
    "version": 3
   },
   "file_extension": ".py",
   "mimetype": "text/x-python",
   "name": "python",
   "nbconvert_exporter": "python",
   "pygments_lexer": "ipython3",
   "version": "3.8.5"
  }
 },
 "nbformat": 4,
 "nbformat_minor": 4
}
